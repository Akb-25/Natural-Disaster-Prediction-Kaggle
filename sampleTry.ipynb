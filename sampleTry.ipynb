{
 "cells": [
  {
   "cell_type": "code",
   "execution_count": 1,
   "metadata": {},
   "outputs": [],
   "source": [
    "import pandas as pd\n",
    "import numpy as np\n",
    "import tensorflow as tf\n",
    "from tensorflow import keras\n",
    "import matplotlib.pyplot as plt\n",
    "import spacy\n",
    "import nltk"
   ]
  },
  {
   "cell_type": "code",
   "execution_count": 2,
   "metadata": {},
   "outputs": [],
   "source": [
    "nlp=spacy.load(\"en_core_web_sm\")"
   ]
  },
  {
   "cell_type": "code",
   "execution_count": 14,
   "metadata": {},
   "outputs": [],
   "source": [
    "def pos(text):\n",
    "    text=nlp(text)\n",
    "    noun=0\n",
    "    for word in text:\n",
    "        if (word.pos_==\"NOUN\"):\n",
    "            noun+=1\n",
    "    return noun"
   ]
  },
  {
   "cell_type": "code",
   "execution_count": 15,
   "metadata": {},
   "outputs": [
    {
     "name": "stdout",
     "output_type": "stream",
     "text": [
      "2\n"
     ]
    }
   ],
   "source": [
    "text=\"hi i am a good boy just baby\"\n",
    "count=pos(text)\n",
    "print(count)"
   ]
  },
  {
   "cell_type": "code",
   "execution_count": 9,
   "metadata": {},
   "outputs": [
    {
     "name": "stdout",
     "output_type": "stream",
     "text": [
      "DET\n",
      "ADJ\n",
      "ADJ\n",
      "NOUN\n",
      "VERB\n",
      "ADP\n",
      "DET\n",
      "ADJ\n",
      "NOUN\n",
      "PART\n",
      "NOUN\n",
      "PUNCT\n",
      "SCONJ\n",
      "DET\n",
      "ADJ\n",
      "NOUN\n",
      "NOUN\n",
      "ADV\n",
      "ADP\n",
      "DET\n",
      "ADJ\n",
      "NOUN\n",
      "PUNCT\n"
     ]
    }
   ],
   "source": [
    "pos(\"The quick brown fox jumps over the lazy dog's fence, while the curious cat naps peacefully on the sunny windowsill.\")"
   ]
  }
 ],
 "metadata": {
  "kernelspec": {
   "display_name": "base",
   "language": "python",
   "name": "python3"
  },
  "language_info": {
   "codemirror_mode": {
    "name": "ipython",
    "version": 3
   },
   "file_extension": ".py",
   "mimetype": "text/x-python",
   "name": "python",
   "nbconvert_exporter": "python",
   "pygments_lexer": "ipython3",
   "version": "3.9.13"
  }
 },
 "nbformat": 4,
 "nbformat_minor": 2
}
